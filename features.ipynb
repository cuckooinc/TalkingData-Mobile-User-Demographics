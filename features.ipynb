{
 "cells": [
  {
   "cell_type": "markdown",
   "metadata": {},
   "source": [
    "# GENERAL FEATURES FOR KERAS MODELS"
   ]
  },
  {
   "cell_type": "code",
   "execution_count": 1,
   "metadata": {},
   "outputs": [],
   "source": [
    "import os\n",
    "import sys\n",
    "from os import path\n",
    "import numpy as np\n",
    "import pandas as pd\n",
    "from scipy import sparse, io\n",
    "from scipy.sparse import csr_matrix, hstack\n",
    "from sklearn.preprocessing import LabelEncoder\n",
    "from sklearn.decomposition import TruncatedSVD\n",
    "from sklearn.preprocessing import StandardScaler\n",
    "import matplotlib.pyplot as plt\n"
   ]
  },
  {
   "cell_type": "code",
   "execution_count": 2,
   "metadata": {},
   "outputs": [],
   "source": [
    "RAW_DATA_DIR='C:\\\\Users\\\\RISHABH\\\\Documents\\\\input'"
   ]
  },
  {
   "cell_type": "markdown",
   "metadata": {},
   "source": [
    "## LOADING DATA"
   ]
  },
  {
   "cell_type": "code",
   "execution_count": 15,
   "metadata": {},
   "outputs": [],
   "source": [
    "gatrain = pd.read_csv(os.path.join(RAW_DATA_DIR,'gender_age_train.csv'),\n",
    "                      )\n",
    "gatest = pd.read_csv(os.path.join(RAW_DATA_DIR,'gender_age_test.csv'),\n",
    "                     )\n",
    "phone = pd.read_csv(os.path.join(RAW_DATA_DIR,'phone_brand_device_model.csv'))\n",
    "# removing duplicate values in phone dataframe so doesn't create problems while joining dataframes\n",
    "phone=phone.drop_duplicates('device_id',keep='first')\n",
    "\n",
    "events = pd.read_csv(path.join(RAW_DATA_DIR, 'events.csv'),\n",
    "                     parse_dates=['timestamp'],\n",
    "                     infer_datetime_format=True,\n",
    "                     )\n",
    "\n",
    "appevents = pd.read_csv(path.join(RAW_DATA_DIR, 'app_events.csv'),\n",
    "                        dtype={'is_installed':bool, 'is_active':bool})\n",
    "\n",
    "applabels = pd.read_csv(os.path.join(RAW_DATA_DIR, 'app_labels.csv'))  \n",
    "labelcat = pd.read_csv(os.path.join(RAW_DATA_DIR, 'label_categories.csv'))"
   ]
  },
  {
   "cell_type": "markdown",
   "metadata": {},
   "source": [
    "## CREATE HAS_EVENTS FEATURES"
   ]
  },
  {
   "cell_type": "code",
   "execution_count": 10,
   "metadata": {},
   "outputs": [],
   "source": [
    "s=events.device_id.unique() \n",
    "#creating featura has events for train and test\n",
    "gatrain['has_events']=gatrain.device_id.apply(lambda x:1 if x in s else 0)  \n",
    "gatest['has_events']=gatest.device_id.apply(lambda x:1 if x in s else 0)"
   ]
  },
  {
   "cell_type": "code",
   "execution_count": 16,
   "metadata": {},
   "outputs": [],
   "source": [
    "gatrain['trainrow'] = np.arange(gatrain.shape[0])\n",
    "gatest['testrow'] = np.arange(gatest.shape[0]) \n",
    "gatrain=gatrain.merge(phone,on='device_id')  \n",
    "\n",
    "gatest=gatest.merge(phone,on='device_id')"
   ]
  },
  {
   "cell_type": "markdown",
   "metadata": {},
   "source": [
    "## BOW OF BRAND"
   ]
  },
  {
   "cell_type": "code",
   "execution_count": 13,
   "metadata": {},
   "outputs": [
    {
     "name": "stdout",
     "output_type": "stream",
     "text": [
      "Brand features: train shape (74645, 131), test shape (112071, 131)\n"
     ]
    }
   ],
   "source": [
    "import pickle\n",
    "brandencoder = LabelEncoder()\n",
    "brandencoder.fit(np.append(gatrain.phone_brand.values,gatest.phone_brand.values)) \n",
    "pickle.dump(brandencoder,open('brandencoder.sav','wb'))\n",
    "#converting brand to labels\n",
    "gatrain['phone_brand']=brandencoder.transform(gatrain['phone_brand']) \n",
    "gatest['phone_brand']=brandencoder.transform(gatest['phone_brand'])  \n",
    "#converting labels to int datatype\n",
    "row=gatrain['phone_brand'].astype(int) \n",
    "row2=gatest['phone_brand'].astype(int)\n",
    "#creating sparse matrix of brand data\n",
    "Xtr_brand = csr_matrix((np.ones(gatrain.shape[0]),\n",
    "                       (gatrain.trainrow, row)))\n",
    "Xte_brand = csr_matrix((np.ones(gatest.shape[0]),\n",
    "                       (gatest.testrow, row2)))\n",
    "print('Brand features: train shape {}, test shape {}'.format(Xtr_brand.shape, Xte_brand.shape))"
   ]
  },
  {
   "cell_type": "markdown",
   "metadata": {},
   "source": [
    "## BOW OF MODEL"
   ]
  },
  {
   "cell_type": "code",
   "execution_count": 17,
   "metadata": {},
   "outputs": [
    {
     "name": "stdout",
     "output_type": "stream",
     "text": [
      "Model features: train shape (74645, 1667), test shape (112071, 1667)\n"
     ]
    }
   ],
   "source": [
    "m = phone.phone_brand.str.cat(phone.device_model)\n",
    "\n",
    "modelencoder = LabelEncoder().fit(m)\n",
    "#converting model to labels\n",
    "pickle.dump(modelencoder,open('modelencoder.sav','wb'))\n",
    "gatrain['model']=modelencoder.transform(gatrain['phone_brand'].str.cat(gatrain.device_model)) \n",
    "gatest['model']=modelencoder.transform(gatest['phone_brand'].str.cat(gatest.device_model)) \n",
    "#converting labels to int datatype\n",
    "row=gatrain['model'].astype(int) \n",
    "row2=gatest['model'].astype(int) \n",
    "#creating sparse matrix of model data\n",
    "Xtr_model = csr_matrix((np.ones(gatrain.shape[0]),\n",
    "                       (gatrain.trainrow, row)))\n",
    "Xte_model = csr_matrix((np.ones(gatest.shape[0]),\n",
    "                       (gatest.testrow, row2)))\n",
    "print('Model features: train shape {}, test shape {}'.format(Xtr_model.shape, Xte_model.shape))\n"
   ]
  },
  {
   "cell_type": "markdown",
   "metadata": {},
   "source": [
    "## TRAIN AND TEST DATASET FOR NOEVENTS FEATURE"
   ]
  },
  {
   "cell_type": "code",
   "execution_count": 50,
   "metadata": {},
   "outputs": [],
   "source": [
    "Xtrain_all_brand_model=hstack((Xtr_brand,Xtr_model)) \n",
    "Xtrain_events_brand_model=hstack((Xtr_brand[gatrain.index[gatrain.has_events==1],:],Xtr_model[gatrain.index[gatrain.has_events==1],:]))\n",
    "Xtrain_noevents_brand_model=hstack((Xtr_brand[gatrain.index[gatrain.has_events==0],:],Xtr_model[gatrain.index[gatrain.has_events==0],:]))                                           "
   ]
  },
  {
   "cell_type": "code",
   "execution_count": 13,
   "metadata": {},
   "outputs": [],
   "source": [
    "Xtest_all_brand_model=hstack((Xte_brand,Xte_model)) \n",
    "Xtest_events_brand_model=hstack((Xte_brand[gatest.index[gatest.has_events==1],:],Xte_model[gatest.index[gatest.has_events==1],:]))\n",
    "Xte_noevents_brand_model=hstack((Xte_brand[gatest.index[gatest.has_events==0],:],Xte_model[gatest.index[gatest.has_events==0],:]))                                           "
   ]
  },
  {
   "cell_type": "markdown",
   "metadata": {},
   "source": [
    "## BOW FOR APPS"
   ]
  },
  {
   "cell_type": "code",
   "execution_count": 19,
   "metadata": {},
   "outputs": [],
   "source": [
    "events=events.set_index('event_id') \n",
    "gatrain=gatrain.set_index('device_id') \n",
    "gatest=gatest.set_index('device_id')"
   ]
  },
  {
   "cell_type": "code",
   "execution_count": 20,
   "metadata": {},
   "outputs": [
    {
     "name": "stdout",
     "output_type": "stream",
     "text": [
      "Apps data: train shape (74645, 19237), test shape (112071, 19237)\n"
     ]
    }
   ],
   "source": [
    "appencoder = LabelEncoder().fit(appevents.app_id)\n",
    "#converting apps to labels\n",
    "appevents['app'] = appencoder.transform(appevents.app_id) \n",
    "pickle.dump(appencoder,open('appencoder.sav','wb'))\n",
    "napps = len(appencoder.classes_) \n",
    "# finding apps per device id and finding row in train and test associated with device id\n",
    "deviceapps = (appevents.merge(events[['device_id']], how='left',left_on='event_id',right_index=True)\n",
    "                       .groupby(['device_id','app'])['app'].agg(['size'])\n",
    "                       .merge(gatrain[['trainrow']], how='left', left_index=True, right_index=True)\n",
    "                       .merge(gatest[['testrow']], how='left', left_index=True, right_index=True)\n",
    "                       .reset_index())\n",
    "deviceapps.head()\n",
    "# sparse matrix representation of bag of words of apps\n",
    "d = deviceapps.dropna(subset=['trainrow'])\n",
    "Xtr_app = csr_matrix((np.ones(d.shape[0]), (d.trainrow, d.app)),\n",
    "                      shape=(gatrain.shape[0],napps))\n",
    "d = deviceapps.dropna(subset=['testrow'])\n",
    "Xte_app = csr_matrix((np.ones(d.shape[0]), (d.testrow, d.app)),\n",
    "                      shape=(gatest.shape[0],napps))\n",
    "print('Apps data: train shape {}, test shape {}'.format(Xtr_app.shape, Xte_app.shape))\n",
    "\n"
   ]
  },
  {
   "cell_type": "markdown",
   "metadata": {},
   "source": [
    "## BOW FOR LABELS"
   ]
  },
  {
   "cell_type": "code",
   "execution_count": 22,
   "metadata": {},
   "outputs": [
    {
     "name": "stdout",
     "output_type": "stream",
     "text": [
      "Labels data: train shape (74645, 492), test shape (112071, 492)\n"
     ]
    }
   ],
   "source": [
    "applabels = applabels.loc[applabels.app_id.isin(appevents.app_id.unique())] \n",
    "#converting applabels to labels\n",
    "applabels['app'] = appencoder.transform(applabels.app_id) \n",
    "\n",
    "\n",
    "labelencoder = LabelEncoder().fit(applabels.label_id)\n",
    "pickle.dump(labelencoder,open('labelcoder.sav','wb'))\n",
    "applabels['label'] = labelencoder.transform(applabels.label_id)\n",
    "nlabels = len(labelencoder.classes_)\n",
    "# finding labels per device id and finding row in train and test associated with device id\n",
    "devicelabels = (deviceapps[['device_id','app']]\n",
    "                .merge(applabels[['app','label']])\n",
    "                .groupby(['device_id','label'])['app'].agg(['size'])\n",
    "                .merge(gatrain[['trainrow']], how='left', left_index=True, right_index=True)\n",
    "                .merge(gatest[['testrow']], how='left', left_index=True, right_index=True)\n",
    "                .reset_index())\n",
    "devicelabels.head()\n",
    "# sparse matrix representation of bag of words of applabels\n",
    "d = devicelabels.dropna(subset=['trainrow'])\n",
    "Xtr_label = csr_matrix((np.ones(d.shape[0]), (d.trainrow, d.label)),\n",
    "                      shape=(gatrain.shape[0],nlabels))\n",
    "d = devicelabels.dropna(subset=['testrow'])\n",
    "Xte_label = csr_matrix((np.ones(d.shape[0]), (d.testrow, d.label)),\n",
    "                      shape=(gatest.shape[0],nlabels))\n",
    "print('Labels data: train shape {}, test shape {}'.format(Xtr_label.shape, Xte_label.shape))"
   ]
  },
  {
   "cell_type": "code",
   "execution_count": 16,
   "metadata": {},
   "outputs": [
    {
     "name": "stdout",
     "output_type": "stream",
     "text": [
      "Apps data: train shape (74645, 19237), test shape (112071, 19237)\n"
     ]
    }
   ],
   "source": [
    "print('Apps data: train shape {}, test shape {}'.format(Xtr_app.shape, Xte_app.shape))\n"
   ]
  },
  {
   "cell_type": "markdown",
   "metadata": {},
   "source": [
    "## TRAIN AND TEST FOR ALL DATA"
   ]
  },
  {
   "cell_type": "code",
   "execution_count": 17,
   "metadata": {},
   "outputs": [],
   "source": [
    "Xtrain_all = hstack((Xtr_brand, Xtr_model, Xtr_app, Xtr_label), format='csr')\n",
    "Xtest_all =  hstack((Xte_brand, Xte_model, Xte_app, Xte_label), format='csr')"
   ]
  },
  {
   "cell_type": "code",
   "execution_count": 18,
   "metadata": {},
   "outputs": [
    {
     "data": {
      "text/plain": [
       "<74645x21527 sparse matrix of type '<class 'numpy.float64'>'\n",
       "\twith 2707712 stored elements in Compressed Sparse Row format>"
      ]
     },
     "execution_count": 18,
     "metadata": {},
     "output_type": "execute_result"
    }
   ],
   "source": [
    "Xtrain_all"
   ]
  },
  {
   "cell_type": "code",
   "execution_count": 62,
   "metadata": {},
   "outputs": [],
   "source": [
    "gatest=gatest.reset_index() \n",
    "gatrain=gatrain.reset_index()"
   ]
  },
  {
   "cell_type": "code",
   "execution_count": null,
   "metadata": {},
   "outputs": [],
   "source": [
    "Xtrain_events=Xtrain_all[gatrain.index[gatrain.has_events==1],:] \n",
    "Xtest_events=Xtest_events[gatest.index[gatest.has_events==1],:]"
   ]
  },
  {
   "cell_type": "code",
   "execution_count": null,
   "metadata": {},
   "outputs": [],
   "source": [
    "gatrain.index[gatrain.has_events==1]"
   ]
  }
 ],
 "metadata": {
  "kernelspec": {
   "display_name": "Python 3",
   "language": "python",
   "name": "python3"
  },
  "language_info": {
   "codemirror_mode": {
    "name": "ipython",
    "version": 3
   },
   "file_extension": ".py",
   "mimetype": "text/x-python",
   "name": "python",
   "nbconvert_exporter": "python",
   "pygments_lexer": "ipython3",
   "version": "3.6.7"
  }
 },
 "nbformat": 4,
 "nbformat_minor": 2
}
