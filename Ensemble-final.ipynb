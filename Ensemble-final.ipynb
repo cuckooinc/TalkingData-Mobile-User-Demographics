{
 "cells": [
  {
   "cell_type": "code",
   "execution_count": 1,
   "metadata": {},
   "outputs": [
    {
     "name": "stderr",
     "output_type": "stream",
     "text": [
      "Using TensorFlow backend.\n"
     ]
    },
    {
     "ename": "ModuleNotFoundError",
     "evalue": "No module named 'rpy2'",
     "output_type": "error",
     "traceback": [
      "\u001b[1;31m---------------------------------------------------------------------------\u001b[0m",
      "\u001b[1;31mModuleNotFoundError\u001b[0m                       Traceback (most recent call last)",
      "\u001b[1;32m<ipython-input-1-229f2f9fd9d2>\u001b[0m in \u001b[0;36m<module>\u001b[1;34m\u001b[0m\n\u001b[0;32m     14\u001b[0m \u001b[1;32mfrom\u001b[0m \u001b[0msklearn\u001b[0m\u001b[1;33m.\u001b[0m\u001b[0mpreprocessing\u001b[0m \u001b[1;32mimport\u001b[0m \u001b[0mLabelEncoder\u001b[0m\u001b[1;33m\u001b[0m\u001b[1;33m\u001b[0m\u001b[0m\n\u001b[0;32m     15\u001b[0m \u001b[1;32mfrom\u001b[0m \u001b[0msklearn\u001b[0m\u001b[1;33m.\u001b[0m\u001b[0mmetrics\u001b[0m \u001b[1;32mimport\u001b[0m \u001b[0mlog_loss\u001b[0m\u001b[1;33m\u001b[0m\u001b[1;33m\u001b[0m\u001b[0m\n\u001b[1;32m---> 16\u001b[1;33m \u001b[1;32mfrom\u001b[0m \u001b[0mrpy2\u001b[0m\u001b[1;33m.\u001b[0m\u001b[0mrobjects\u001b[0m\u001b[1;33m.\u001b[0m\u001b[0mpackages\u001b[0m \u001b[1;32mimport\u001b[0m \u001b[0mimportr\u001b[0m\u001b[1;33m\u001b[0m\u001b[1;33m\u001b[0m\u001b[0m\n\u001b[0m",
      "\u001b[1;31mModuleNotFoundError\u001b[0m: No module named 'rpy2'"
     ]
    }
   ],
   "source": [
    "import numpy as np\n",
    "seed = 123\n",
    "np.random.seed(seed)\n",
    "\n",
    "import os\n",
    "import pandas as pd\n",
    "from scipy import sparse\n",
    "from keras.models import Sequential\n",
    "from keras.layers import Dense, Dropout, Activation\n",
    "from keras.wrappers.scikit_learn import KerasClassifier\n",
    "from keras.layers.advanced_activations import PReLU\n",
    "from keras.utils import np_utils \n",
    "from keras.optimizers import Adagrad\n",
    "from sklearn.preprocessing import LabelEncoder\n",
    "from sklearn.metrics import log_loss\n",
    "from rpy2.robjects.packages import importr"
   ]
  },
  {
   "cell_type": "code",
   "execution_count": 1,
   "metadata": {},
   "outputs": [
    {
     "ename": "OSError",
     "evalue": "cannot load library 'C:\\Users\\RISHABH\\Anaconda3\\lib\\R\\bin\\x64\\R.dll': error 0x7e",
     "output_type": "error",
     "traceback": [
      "\u001b[1;31m---------------------------------------------------------------------------\u001b[0m",
      "\u001b[1;31mOSError\u001b[0m                                   Traceback (most recent call last)",
      "\u001b[1;32m<ipython-input-1-e46e53c2c272>\u001b[0m in \u001b[0;36m<module>\u001b[1;34m\u001b[0m\n\u001b[1;32m----> 1\u001b[1;33m \u001b[1;32mfrom\u001b[0m \u001b[0mrpy2\u001b[0m\u001b[1;33m.\u001b[0m\u001b[0mrobjects\u001b[0m\u001b[1;33m.\u001b[0m\u001b[0mpackages\u001b[0m \u001b[1;32mimport\u001b[0m \u001b[0mimportr\u001b[0m\u001b[1;33m\u001b[0m\u001b[1;33m\u001b[0m\u001b[0m\n\u001b[0m",
      "\u001b[1;32m~\\Anaconda3\\lib\\site-packages\\rpy2\\robjects\\__init__.py\u001b[0m in \u001b[0;36m<module>\u001b[1;34m\u001b[0m\n\u001b[0;32m     14\u001b[0m \u001b[1;32mfrom\u001b[0m \u001b[0mfunctools\u001b[0m \u001b[1;32mimport\u001b[0m \u001b[0mpartial\u001b[0m\u001b[1;33m\u001b[0m\u001b[1;33m\u001b[0m\u001b[0m\n\u001b[0;32m     15\u001b[0m \u001b[1;32mimport\u001b[0m \u001b[0mtypes\u001b[0m\u001b[1;33m\u001b[0m\u001b[1;33m\u001b[0m\u001b[0m\n\u001b[1;32m---> 16\u001b[1;33m \u001b[1;32mimport\u001b[0m \u001b[0mrpy2\u001b[0m\u001b[1;33m.\u001b[0m\u001b[0mrinterface\u001b[0m \u001b[1;32mas\u001b[0m \u001b[0mrinterface\u001b[0m\u001b[1;33m\u001b[0m\u001b[1;33m\u001b[0m\u001b[0m\n\u001b[0m\u001b[0;32m     17\u001b[0m \u001b[1;32mimport\u001b[0m \u001b[0mrpy2\u001b[0m\u001b[1;33m.\u001b[0m\u001b[0mrlike\u001b[0m\u001b[1;33m.\u001b[0m\u001b[0mcontainer\u001b[0m \u001b[1;32mas\u001b[0m \u001b[0mrlc\u001b[0m\u001b[1;33m\u001b[0m\u001b[1;33m\u001b[0m\u001b[0m\n\u001b[0;32m     18\u001b[0m \u001b[1;33m\u001b[0m\u001b[0m\n",
      "\u001b[1;32m~\\Anaconda3\\lib\\site-packages\\rpy2\\rinterface.py\u001b[0m in \u001b[0;36m<module>\u001b[1;34m\u001b[0m\n\u001b[0;32m      4\u001b[0m \u001b[1;32mimport\u001b[0m \u001b[0mtyping\u001b[0m\u001b[1;33m\u001b[0m\u001b[1;33m\u001b[0m\u001b[0m\n\u001b[0;32m      5\u001b[0m \u001b[1;32mfrom\u001b[0m \u001b[0mtyping\u001b[0m \u001b[1;32mimport\u001b[0m \u001b[0mUnion\u001b[0m\u001b[1;33m\u001b[0m\u001b[1;33m\u001b[0m\u001b[0m\n\u001b[1;32m----> 6\u001b[1;33m \u001b[1;32mfrom\u001b[0m \u001b[0mrpy2\u001b[0m\u001b[1;33m.\u001b[0m\u001b[0mrinterface_lib\u001b[0m \u001b[1;32mimport\u001b[0m \u001b[0mopenrlib\u001b[0m\u001b[1;33m\u001b[0m\u001b[1;33m\u001b[0m\u001b[0m\n\u001b[0m\u001b[0;32m      7\u001b[0m \u001b[1;32mimport\u001b[0m \u001b[0mrpy2\u001b[0m\u001b[1;33m.\u001b[0m\u001b[0mrinterface_lib\u001b[0m\u001b[1;33m.\u001b[0m\u001b[0m_rinterface_capi\u001b[0m \u001b[1;32mas\u001b[0m \u001b[0m_rinterface\u001b[0m\u001b[1;33m\u001b[0m\u001b[1;33m\u001b[0m\u001b[0m\n\u001b[0;32m      8\u001b[0m \u001b[1;32mimport\u001b[0m \u001b[0mrpy2\u001b[0m\u001b[1;33m.\u001b[0m\u001b[0mrinterface_lib\u001b[0m\u001b[1;33m.\u001b[0m\u001b[0membedded\u001b[0m \u001b[1;32mas\u001b[0m \u001b[0membedded\u001b[0m\u001b[1;33m\u001b[0m\u001b[1;33m\u001b[0m\u001b[0m\n",
      "\u001b[1;32m~\\Anaconda3\\lib\\site-packages\\rpy2\\rinterface_lib\\openrlib.py\u001b[0m in \u001b[0;36m<module>\u001b[1;34m\u001b[0m\n\u001b[0;32m     42\u001b[0m     \u001b[0mrlib\u001b[0m \u001b[1;33m=\u001b[0m \u001b[0m_rinterface_cffi\u001b[0m\u001b[1;33m.\u001b[0m\u001b[0mlib\u001b[0m\u001b[1;33m\u001b[0m\u001b[1;33m\u001b[0m\u001b[0m\n\u001b[0;32m     43\u001b[0m \u001b[1;32melse\u001b[0m\u001b[1;33m:\u001b[0m\u001b[1;33m\u001b[0m\u001b[1;33m\u001b[0m\u001b[0m\n\u001b[1;32m---> 44\u001b[1;33m     \u001b[0mrlib\u001b[0m \u001b[1;33m=\u001b[0m \u001b[0m_dlopen_rlib\u001b[0m\u001b[1;33m(\u001b[0m\u001b[0mR_HOME\u001b[0m\u001b[1;33m)\u001b[0m\u001b[1;33m\u001b[0m\u001b[1;33m\u001b[0m\u001b[0m\n\u001b[0m\u001b[0;32m     45\u001b[0m \u001b[1;33m\u001b[0m\u001b[0m\n\u001b[0;32m     46\u001b[0m \u001b[1;33m\u001b[0m\u001b[0m\n",
      "\u001b[1;32m~\\Anaconda3\\lib\\site-packages\\rpy2\\rinterface_lib\\openrlib.py\u001b[0m in \u001b[0;36m_dlopen_rlib\u001b[1;34m(r_home)\u001b[0m\n\u001b[0;32m     35\u001b[0m         \u001b[1;32mraise\u001b[0m \u001b[0mValueError\u001b[0m\u001b[1;33m(\u001b[0m\u001b[1;34m'The library path cannot be None.'\u001b[0m\u001b[1;33m)\u001b[0m\u001b[1;33m\u001b[0m\u001b[1;33m\u001b[0m\u001b[0m\n\u001b[0;32m     36\u001b[0m     \u001b[1;32melse\u001b[0m\u001b[1;33m:\u001b[0m\u001b[1;33m\u001b[0m\u001b[1;33m\u001b[0m\u001b[0m\n\u001b[1;32m---> 37\u001b[1;33m         \u001b[0mrlib\u001b[0m \u001b[1;33m=\u001b[0m \u001b[0mffi\u001b[0m\u001b[1;33m.\u001b[0m\u001b[0mdlopen\u001b[0m\u001b[1;33m(\u001b[0m\u001b[0mlib_path\u001b[0m\u001b[1;33m)\u001b[0m\u001b[1;33m\u001b[0m\u001b[1;33m\u001b[0m\u001b[0m\n\u001b[0m\u001b[0;32m     38\u001b[0m     \u001b[1;32mreturn\u001b[0m \u001b[0mrlib\u001b[0m\u001b[1;33m\u001b[0m\u001b[1;33m\u001b[0m\u001b[0m\n\u001b[0;32m     39\u001b[0m \u001b[1;33m\u001b[0m\u001b[0m\n",
      "\u001b[1;31mOSError\u001b[0m: cannot load library 'C:\\Users\\RISHABH\\Anaconda3\\lib\\R\\bin\\x64\\R.dll': error 0x7e"
     ]
    }
   ],
   "source": [
    "from rpy2.robjects.packages import importr"
   ]
  },
  {
   "cell_type": "code",
   "execution_count": 2,
   "metadata": {},
   "outputs": [],
   "source": [
    "RAW_DATA_DIR='C:\\\\Users\\\\RISHABH\\\\Documents\\\\input'"
   ]
  },
  {
   "cell_type": "markdown",
   "metadata": {},
   "source": [
    "## Load train for all individual models"
   ]
  },
  {
   "cell_type": "code",
   "execution_count": 159,
   "metadata": {},
   "outputs": [],
   "source": [
    "train_xgb_events=pd.read_csv(os.path.join(RAW_DATA_DIR,'pred_train_xgbevents.csv')) \n",
    "train_keras1=pd.read_csv(os.path.join(RAW_DATA_DIR,'pred_keras_cv10.csv')) \n",
    "train_xgb_noevents=pd.read_csv(os.path.join(RAW_DATA_DIR,'pred_train_xgbnoevents.csv'))\n",
    "train_keras2_events=pd.read_csv(os.path.join(RAW_DATA_DIR,'pred_train_keras2_events.csv')) \n",
    "train_keras2_noevents=pd.read_csv(os.path.join(RAW_DATA_DIR,'pred_train_keras2_noevents.csv')) \n",
    "train_keras3=pd.read_csv(os.path.join(RAW_DATA_DIR,'pred_train_keras3.csv'))\n",
    "train_keras4=pd.read_csv(os.path.join(RAW_DATA_DIR,'pred_train_cv10_keras4.csv')) \n",
    "events = pd.read_csv(os.path.join(RAW_DATA_DIR, 'events.csv'),\n",
    "                     parse_dates=['timestamp'],\n",
    "                     infer_datetime_format=True,\n",
    "                     )\n",
    "gatrain = pd.read_csv(os.path.join(RAW_DATA_DIR,'gender_age_train.csv'),\n",
    "                      ) "
   ]
  },
  {
   "cell_type": "markdown",
   "metadata": {},
   "source": [
    "## Load test for all individual models"
   ]
  },
  {
   "cell_type": "code",
   "execution_count": 176,
   "metadata": {},
   "outputs": [],
   "source": [
    "test_xgb_events=pd.read_csv(os.path.join(RAW_DATA_DIR,'pred_test_xgbevents.csv')) \n",
    "test_keras1=pd.read_csv(os.path.join(RAW_DATA_DIR,'pred_keras_test_bag10.csv')) \n",
    "test_xgb_noevents=pd.read_csv(os.path.join(RAW_DATA_DIR,'pred_test_xgbnoevents.csv'))\n",
    "test_keras2_events=pd.read_csv(os.path.join(RAW_DATA_DIR,'pred_test_keras2_events.csv')) \n",
    "test_keras2_noevents=pd.read_csv(os.path.join(RAW_DATA_DIR,'pred_test_keras2_noevents.csv')) \n",
    "test_keras3=pd.read_csv(os.path.join(RAW_DATA_DIR,'pred_test_keras3.csv'))\n",
    "test_keras4=pd.read_csv(os.path.join(RAW_DATA_DIR,'pred_test_cv10_keras4.csv')) \n",
    "events = pd.read_csv(os.path.join(RAW_DATA_DIR, 'events.csv'),\n",
    "                     parse_dates=['timestamp'],\n",
    "                     infer_datetime_format=True,\n",
    "                     )\n",
    "gatest = pd.read_csv(os.path.join(RAW_DATA_DIR,'gender_age_test.csv'),\n",
    "                      ) "
   ]
  },
  {
   "cell_type": "markdown",
   "metadata": {},
   "source": [
    "## Adding Has events to models"
   ]
  },
  {
   "cell_type": "code",
   "execution_count": 162,
   "metadata": {},
   "outputs": [],
   "source": [
    "s=events.device_id.unique() \n",
    "#creating featura has events for train and test\n",
    "train_keras1['has_events']=train_keras1.device_id.apply(lambda x:1 if x in s else 0)  \n",
    "train_keras3['has_events']=train_keras3.device_id.apply(lambda x:1 if x in s else 0) \n",
    "train_keras4['has_events']=train_keras4.device_id.apply(lambda x:1 if x in s else 0) \n",
    "gatrain['has_events']=gatrain.device_id.apply(lambda x:1 if x in s else 0)"
   ]
  },
  {
   "cell_type": "code",
   "execution_count": 145,
   "metadata": {},
   "outputs": [],
   "source": [
    "train_keras1_events=train_keras1[train_keras1['has_events']==1] \n",
    "train_keras3_events=train_keras3[train_keras3['has_events']==1] \n",
    "train_keras4_events=train_keras4[train_keras4['has_events']==1] \n",
    "gatrain=gatrain[gatrain['has_events']==1]"
   ]
  },
  {
   "cell_type": "code",
   "execution_count": 163,
   "metadata": {},
   "outputs": [],
   "source": [
    "test_keras1['has_events']=test_keras1.device_id.apply(lambda x:1 if x in s else 0)  \n",
    "test_keras3['has_events']=test_keras3.device_id.apply(lambda x:1 if x in s else 0) \n",
    "test_keras4['has_events']=test_keras4.device_id.apply(lambda x:1 if x in s else 0) \n"
   ]
  },
  {
   "cell_type": "code",
   "execution_count": 147,
   "metadata": {},
   "outputs": [],
   "source": [
    "test_keras1_events=test_keras1[test_keras1['has_events']==1] \n",
    "test_keras3_events=test_keras3[test_keras3['has_events']==1] \n",
    "test_keras4_events=test_keras4[test_keras4['has_events']==1] "
   ]
  },
  {
   "cell_type": "code",
   "execution_count": 148,
   "metadata": {},
   "outputs": [],
   "source": [
    "ytrain = gatrain['group']\n",
    "label_group = LabelEncoder()\n",
    "ytrain = label_group.fit_transform(ytrain)"
   ]
  },
  {
   "cell_type": "code",
   "execution_count": 149,
   "metadata": {},
   "outputs": [],
   "source": [
    "train_keras1_events=train_keras1_events.drop(['has_events',],axis=1) \n",
    "train_keras3_events=train_keras3_events.drop(['has_events'],axis=1) \n",
    "train_keras4_events=train_keras4_events.drop(['has_events'],axis=1) \n"
   ]
  },
  {
   "cell_type": "code",
   "execution_count": 150,
   "metadata": {},
   "outputs": [],
   "source": [
    "train_keras1_events=train_keras1_events.drop(['Unnamed: 0',],axis=1)"
   ]
  },
  {
   "cell_type": "code",
   "execution_count": 151,
   "metadata": {},
   "outputs": [],
   "source": [
    "test_keras1_events=test_keras1_events.drop(['has_events','Unnamed: 0'],axis=1) \n",
    "test_keras3_events=test_keras3_events.drop(['has_events'],axis=1) \n",
    "test_keras4_events=test_keras4_events.drop(['has_events'],axis=1) "
   ]
  },
  {
   "cell_type": "code",
   "execution_count": 152,
   "metadata": {},
   "outputs": [],
   "source": [
    "train_xgb_events=train_xgb_events.to_numpy() \n",
    "train_keras1_events=train_keras1_events.to_numpy() \n",
    "train_keras2_events=train_keras2_events.to_numpy() \n",
    "train_keras3_events=train_keras3_events.to_numpy() \n",
    "train_keras4_events=train_keras4_events.to_numpy()"
   ]
  },
  {
   "cell_type": "code",
   "execution_count": 153,
   "metadata": {},
   "outputs": [],
   "source": [
    "test_xgb_events=test_xgb_events.to_numpy() \n",
    "test_keras1_events=test_keras1_events.to_numpy() \n",
    "test_keras2_events=test_keras2_events.to_numpy() \n",
    "test_keras3_events=test_keras3_events.to_numpy() \n",
    "test_keras4_events=test_keras4_events.to_numpy()"
   ]
  },
  {
   "cell_type": "code",
   "execution_count": null,
   "metadata": {},
   "outputs": [],
   "source": []
  },
  {
   "cell_type": "markdown",
   "metadata": {},
   "source": [
    "## Stacking trained predictions for events data"
   ]
  },
  {
   "cell_type": "code",
   "execution_count": 154,
   "metadata": {},
   "outputs": [],
   "source": [
    "meta_train=np.hstack((train_xgb_events[:,1:],train_keras1_events[:,1:],train_keras2_events[:,1:],train_keras3_events[:,1:],train_keras4_events[:,1:]))"
   ]
  },
  {
   "cell_type": "markdown",
   "metadata": {},
   "source": [
    "## Stacking test predictions for events data"
   ]
  },
  {
   "cell_type": "code",
   "execution_count": 155,
   "metadata": {},
   "outputs": [],
   "source": [
    "test=np.hstack((test_xgb_events[:,1:],test_keras1_events[:,1:],test_keras2_events[:,1:],test_keras3_events[:,1:],test_keras4_events[:,1:]))"
   ]
  },
  {
   "cell_type": "markdown",
   "metadata": {},
   "source": [
    "r function for python"
   ]
  },
  {
   "cell_type": "code",
   "execution_count": null,
   "metadata": {},
   "outputs": [],
   "source": []
  },
  {
   "cell_type": "markdown",
   "metadata": {},
   "source": [
    "## Using logistic regression as metalearner for events data"
   ]
  },
  {
   "cell_type": "code",
   "execution_count": 158,
   "metadata": {},
   "outputs": [],
   "source": [
    "from sklearn.linear_model import LogisticRegression \n",
    "clf = LogisticRegression(C=0.06, multi_class='multinomial', solver='lbfgs').fit(meta_train, ytrain) \n",
    "p_group=np.zeros((test.shape[0],12)) \n",
    "p_group+=clf.predict_proba(test)"
   ]
  },
  {
   "cell_type": "code",
   "execution_count": null,
   "metadata": {},
   "outputs": [],
   "source": []
  },
  {
   "cell_type": "code",
   "execution_count": 164,
   "metadata": {},
   "outputs": [],
   "source": [
    "train_keras1_noevents=train_keras1[train_keras1['has_events']==0] \n",
    "train_keras3_noevents=train_keras3[train_keras3['has_events']==0] \n",
    "train_keras4_noevents=train_keras4[train_keras4['has_events']==0] \n",
    "gatrain=gatrain[gatrain['has_events']==0]"
   ]
  },
  {
   "cell_type": "code",
   "execution_count": 165,
   "metadata": {},
   "outputs": [],
   "source": [
    "test_keras1_noevents=test_keras1[test_keras1['has_events']==0] \n",
    "test_keras3_noevents=test_keras3[test_keras3['has_events']==0] \n",
    "test_keras4_noevents=test_keras4[test_keras4['has_events']==0]"
   ]
  },
  {
   "cell_type": "code",
   "execution_count": 166,
   "metadata": {},
   "outputs": [],
   "source": [
    "ytrain = gatrain['group']\n",
    "label_group = LabelEncoder()\n",
    "ytrain = label_group.fit_transform(ytrain)"
   ]
  },
  {
   "cell_type": "code",
   "execution_count": 167,
   "metadata": {},
   "outputs": [],
   "source": [
    "train_keras1_noevents=train_keras1_noevents.drop(['has_events','Unnamed: 0'],axis=1) \n",
    "train_keras3_noevents=train_keras3_noevents.drop(['has_events'],axis=1) \n",
    "train_keras4_noevents=train_keras4_noevents.drop(['has_events'],axis=1) "
   ]
  },
  {
   "cell_type": "code",
   "execution_count": 168,
   "metadata": {},
   "outputs": [],
   "source": [
    "test_keras1_noevents=test_keras1_noevents.drop(['has_events','Unnamed: 0'],axis=1) \n",
    "test_keras3_noevents=test_keras3_noevents.drop(['has_events'],axis=1) \n",
    "test_keras4_noevents=test_keras4_noevents.drop(['has_events'],axis=1) "
   ]
  },
  {
   "cell_type": "code",
   "execution_count": 169,
   "metadata": {},
   "outputs": [],
   "source": [
    "test_xgb_noevents=test_xgb_noevents.drop(['has_events','Unnamed: 0'],axis=1)"
   ]
  },
  {
   "cell_type": "code",
   "execution_count": 121,
   "metadata": {},
   "outputs": [
    {
     "data": {
      "text/html": [
       "<div>\n",
       "<style scoped>\n",
       "    .dataframe tbody tr th:only-of-type {\n",
       "        vertical-align: middle;\n",
       "    }\n",
       "\n",
       "    .dataframe tbody tr th {\n",
       "        vertical-align: top;\n",
       "    }\n",
       "\n",
       "    .dataframe thead th {\n",
       "        text-align: right;\n",
       "    }\n",
       "</style>\n",
       "<table border=\"1\" class=\"dataframe\">\n",
       "  <thead>\n",
       "    <tr style=\"text-align: right;\">\n",
       "      <th></th>\n",
       "      <th>device_id</th>\n",
       "      <th>0</th>\n",
       "      <th>1</th>\n",
       "      <th>2</th>\n",
       "      <th>3</th>\n",
       "      <th>4</th>\n",
       "      <th>5</th>\n",
       "      <th>6</th>\n",
       "      <th>7</th>\n",
       "      <th>8</th>\n",
       "      <th>9</th>\n",
       "      <th>10</th>\n",
       "      <th>11</th>\n",
       "    </tr>\n",
       "  </thead>\n",
       "  <tbody>\n",
       "    <tr>\n",
       "      <td>0</td>\n",
       "      <td>-8076087639492063270</td>\n",
       "      <td>0.040373</td>\n",
       "      <td>0.063003</td>\n",
       "      <td>0.046480</td>\n",
       "      <td>0.060038</td>\n",
       "      <td>0.061173</td>\n",
       "      <td>0.041472</td>\n",
       "      <td>0.074010</td>\n",
       "      <td>0.174139</td>\n",
       "      <td>0.098744</td>\n",
       "      <td>0.113983</td>\n",
       "      <td>0.124493</td>\n",
       "      <td>0.102093</td>\n",
       "    </tr>\n",
       "    <tr>\n",
       "      <td>1</td>\n",
       "      <td>-2897161552818060146</td>\n",
       "      <td>0.040314</td>\n",
       "      <td>0.059087</td>\n",
       "      <td>0.044647</td>\n",
       "      <td>0.053344</td>\n",
       "      <td>0.055560</td>\n",
       "      <td>0.040670</td>\n",
       "      <td>0.081050</td>\n",
       "      <td>0.178463</td>\n",
       "      <td>0.103223</td>\n",
       "      <td>0.110434</td>\n",
       "      <td>0.123781</td>\n",
       "      <td>0.109427</td>\n",
       "    </tr>\n",
       "    <tr>\n",
       "      <td>2</td>\n",
       "      <td>-4938849341048082022</td>\n",
       "      <td>0.061272</td>\n",
       "      <td>0.053939</td>\n",
       "      <td>0.041866</td>\n",
       "      <td>0.068234</td>\n",
       "      <td>0.083065</td>\n",
       "      <td>0.066693</td>\n",
       "      <td>0.087003</td>\n",
       "      <td>0.115051</td>\n",
       "      <td>0.067988</td>\n",
       "      <td>0.099514</td>\n",
       "      <td>0.129951</td>\n",
       "      <td>0.125425</td>\n",
       "    </tr>\n",
       "    <tr>\n",
       "      <td>3</td>\n",
       "      <td>245133531816851882</td>\n",
       "      <td>0.075852</td>\n",
       "      <td>0.065344</td>\n",
       "      <td>0.048002</td>\n",
       "      <td>0.063929</td>\n",
       "      <td>0.064828</td>\n",
       "      <td>0.044747</td>\n",
       "      <td>0.113037</td>\n",
       "      <td>0.146881</td>\n",
       "      <td>0.082414</td>\n",
       "      <td>0.098407</td>\n",
       "      <td>0.107172</td>\n",
       "      <td>0.089388</td>\n",
       "    </tr>\n",
       "    <tr>\n",
       "      <td>4</td>\n",
       "      <td>-1297074871525174196</td>\n",
       "      <td>0.122233</td>\n",
       "      <td>0.070525</td>\n",
       "      <td>0.051627</td>\n",
       "      <td>0.066755</td>\n",
       "      <td>0.073594</td>\n",
       "      <td>0.045431</td>\n",
       "      <td>0.139238</td>\n",
       "      <td>0.121128</td>\n",
       "      <td>0.068153</td>\n",
       "      <td>0.078752</td>\n",
       "      <td>0.093067</td>\n",
       "      <td>0.069497</td>\n",
       "    </tr>\n",
       "  </tbody>\n",
       "</table>\n",
       "</div>"
      ],
      "text/plain": [
       "             device_id         0         1         2         3         4  \\\n",
       "0 -8076087639492063270  0.040373  0.063003  0.046480  0.060038  0.061173   \n",
       "1 -2897161552818060146  0.040314  0.059087  0.044647  0.053344  0.055560   \n",
       "2 -4938849341048082022  0.061272  0.053939  0.041866  0.068234  0.083065   \n",
       "3   245133531816851882  0.075852  0.065344  0.048002  0.063929  0.064828   \n",
       "4 -1297074871525174196  0.122233  0.070525  0.051627  0.066755  0.073594   \n",
       "\n",
       "          5         6         7         8         9        10        11  \n",
       "0  0.041472  0.074010  0.174139  0.098744  0.113983  0.124493  0.102093  \n",
       "1  0.040670  0.081050  0.178463  0.103223  0.110434  0.123781  0.109427  \n",
       "2  0.066693  0.087003  0.115051  0.067988  0.099514  0.129951  0.125425  \n",
       "3  0.044747  0.113037  0.146881  0.082414  0.098407  0.107172  0.089388  \n",
       "4  0.045431  0.139238  0.121128  0.068153  0.078752  0.093067  0.069497  "
      ]
     },
     "execution_count": 121,
     "metadata": {},
     "output_type": "execute_result"
    }
   ],
   "source": [
    "train_xgb_noevents.head()"
   ]
  },
  {
   "cell_type": "code",
   "execution_count": 170,
   "metadata": {},
   "outputs": [],
   "source": [
    "train_xgb_noevents=train_xgb_noevents.to_numpy() \n",
    "train_keras1_noevents=train_keras1_noevents.to_numpy() \n",
    "train_keras2_noevents=train_keras2_noevents.to_numpy() \n",
    "train_keras3_noevents=train_keras3_noevents.to_numpy() \n",
    "train_keras4_noevents=train_keras4_noevents.to_numpy()"
   ]
  },
  {
   "cell_type": "code",
   "execution_count": 171,
   "metadata": {},
   "outputs": [],
   "source": [
    "test_xgb_noevents=test_xgb_noevents.to_numpy() \n",
    "test_keras1_noevents=test_keras1_noevents.to_numpy() \n",
    "test_keras2_noevents=test_keras2_noevents.to_numpy() \n",
    "test_keras3_noevents=test_keras3_noevents.to_numpy() \n",
    "test_keras4_noevents=test_keras4_noevents.to_numpy()"
   ]
  },
  {
   "cell_type": "markdown",
   "metadata": {},
   "source": [
    "## Stacking trained predictions for noevents data"
   ]
  },
  {
   "cell_type": "code",
   "execution_count": 172,
   "metadata": {},
   "outputs": [],
   "source": [
    "meta_train=np.hstack((train_xgb_noevents[:,1:],train_keras1_noevents[:,1:],train_keras2_noevents[:,1:],train_keras3_noevents[:,1:],train_keras4_noevents[:,1:])) \n",
    "test=np.hstack((test_xgb_noevents[:,1:],test_keras1_noevents[:,1:],test_keras2_noevents[:,1:],test_keras3_noevents[:,1:],test_keras4_noevents[:,1:]))"
   ]
  },
  {
   "cell_type": "code",
   "execution_count": 125,
   "metadata": {},
   "outputs": [
    {
     "data": {
      "text/plain": [
       "(51336, 60)"
      ]
     },
     "execution_count": 125,
     "metadata": {},
     "output_type": "execute_result"
    }
   ],
   "source": [
    "meta_train.shape"
   ]
  },
  {
   "cell_type": "markdown",
   "metadata": {},
   "source": [
    "## Using logistic regression as metalearner for noevents data"
   ]
  },
  {
   "cell_type": "code",
   "execution_count": 173,
   "metadata": {},
   "outputs": [],
   "source": [
    "from sklearn.linear_model import LogisticRegression \n",
    "from sklearn.linear_model import LogisticRegression \n",
    "clf = LogisticRegression(C=0.06, multi_class='multinomial', solver='lbfgs').fit(meta_train, ytrain) \n",
    "p_group=np.zeros((test.shape[0],12)) \n",
    "p_group+=clf.predict_proba(test)"
   ]
  },
  {
   "cell_type": "code",
   "execution_count": 128,
   "metadata": {},
   "outputs": [],
   "source": [
    "dtest=xgb.DMatrix(test)\n",
    "p_group=np.zeros((test.shape[0],12)) \n",
    "p_group+=xgb_group.predict(dtest)"
   ]
  },
  {
   "cell_type": "code",
   "execution_count": 174,
   "metadata": {},
   "outputs": [],
   "source": [
    "p_group_noevents=p_group"
   ]
  },
  {
   "cell_type": "code",
   "execution_count": 177,
   "metadata": {},
   "outputs": [],
   "source": [
    "final_pred_noevents=pd.DataFrame(p_group_noevents,index=test_xgb_noevents.device_id,columns=list(label_group.classes_)) \n",
    "final_pred_noevents=final_pred_noevents.reset_index()  \n",
    "\n",
    "final_pred_events=pd.DataFrame(p_group_events,index=test_xgb_events.device_id,columns=list(label_group.classes_)) \n",
    "final_pred_events=final_pred_events.reset_index() \n",
    "\n"
   ]
  },
  {
   "cell_type": "markdown",
   "metadata": {},
   "source": [
    "## Combining final prediction"
   ]
  },
  {
   "cell_type": "code",
   "execution_count": 178,
   "metadata": {},
   "outputs": [],
   "source": [
    "gatest = pd.read_csv(os.path.join(RAW_DATA_DIR,'gender_age_test.csv'),\n",
    "                     )\n",
    "pred_test=final_pred_noevents.append(final_pred_events,ignore_index=True) \n",
    "gatest=gatest.merge(pred_test,on='device_id') \n",
    "gatest.to_csv('final_sub.csv',index=False)"
   ]
  },
  {
   "cell_type": "code",
   "execution_count": 141,
   "metadata": {},
   "outputs": [
    {
     "data": {
      "text/html": [
       "<div>\n",
       "<style scoped>\n",
       "    .dataframe tbody tr th:only-of-type {\n",
       "        vertical-align: middle;\n",
       "    }\n",
       "\n",
       "    .dataframe tbody tr th {\n",
       "        vertical-align: top;\n",
       "    }\n",
       "\n",
       "    .dataframe thead th {\n",
       "        text-align: right;\n",
       "    }\n",
       "</style>\n",
       "<table border=\"1\" class=\"dataframe\">\n",
       "  <thead>\n",
       "    <tr style=\"text-align: right;\">\n",
       "      <th></th>\n",
       "      <th>device_id</th>\n",
       "      <th>F23-</th>\n",
       "      <th>F24-26</th>\n",
       "      <th>F27-28</th>\n",
       "      <th>F29-32</th>\n",
       "      <th>F33-42</th>\n",
       "      <th>F43+</th>\n",
       "      <th>M22-</th>\n",
       "      <th>M23-26</th>\n",
       "      <th>M27-28</th>\n",
       "      <th>M29-31</th>\n",
       "      <th>M32-38</th>\n",
       "      <th>M39+</th>\n",
       "    </tr>\n",
       "  </thead>\n",
       "  <tbody>\n",
       "    <tr>\n",
       "      <td>0</td>\n",
       "      <td>1002079943728939269</td>\n",
       "      <td>0.000572</td>\n",
       "      <td>0.000507</td>\n",
       "      <td>0.001270</td>\n",
       "      <td>0.002703</td>\n",
       "      <td>0.013747</td>\n",
       "      <td>0.009861</td>\n",
       "      <td>0.000594</td>\n",
       "      <td>0.006339</td>\n",
       "      <td>0.013291</td>\n",
       "      <td>0.099033</td>\n",
       "      <td>0.140666</td>\n",
       "      <td>0.711418</td>\n",
       "    </tr>\n",
       "    <tr>\n",
       "      <td>1</td>\n",
       "      <td>-1547860181818787117</td>\n",
       "      <td>0.001123</td>\n",
       "      <td>0.005265</td>\n",
       "      <td>0.004131</td>\n",
       "      <td>0.014236</td>\n",
       "      <td>0.030367</td>\n",
       "      <td>0.026144</td>\n",
       "      <td>0.001583</td>\n",
       "      <td>0.035844</td>\n",
       "      <td>0.079710</td>\n",
       "      <td>0.266303</td>\n",
       "      <td>0.410740</td>\n",
       "      <td>0.124554</td>\n",
       "    </tr>\n",
       "    <tr>\n",
       "      <td>2</td>\n",
       "      <td>7374582448058474277</td>\n",
       "      <td>0.004467</td>\n",
       "      <td>0.018456</td>\n",
       "      <td>0.035311</td>\n",
       "      <td>0.134761</td>\n",
       "      <td>0.124947</td>\n",
       "      <td>0.070306</td>\n",
       "      <td>0.014288</td>\n",
       "      <td>0.027305</td>\n",
       "      <td>0.041761</td>\n",
       "      <td>0.178684</td>\n",
       "      <td>0.251354</td>\n",
       "      <td>0.098361</td>\n",
       "    </tr>\n",
       "    <tr>\n",
       "      <td>3</td>\n",
       "      <td>-6220210354783429585</td>\n",
       "      <td>0.002962</td>\n",
       "      <td>0.007695</td>\n",
       "      <td>0.002018</td>\n",
       "      <td>0.005748</td>\n",
       "      <td>0.032360</td>\n",
       "      <td>0.054211</td>\n",
       "      <td>0.014240</td>\n",
       "      <td>0.223050</td>\n",
       "      <td>0.143202</td>\n",
       "      <td>0.167419</td>\n",
       "      <td>0.167737</td>\n",
       "      <td>0.179358</td>\n",
       "    </tr>\n",
       "    <tr>\n",
       "      <td>4</td>\n",
       "      <td>-5893464122623104785</td>\n",
       "      <td>0.027091</td>\n",
       "      <td>0.070482</td>\n",
       "      <td>0.026176</td>\n",
       "      <td>0.076757</td>\n",
       "      <td>0.028917</td>\n",
       "      <td>0.027073</td>\n",
       "      <td>0.064716</td>\n",
       "      <td>0.214713</td>\n",
       "      <td>0.130337</td>\n",
       "      <td>0.104152</td>\n",
       "      <td>0.126223</td>\n",
       "      <td>0.103363</td>\n",
       "    </tr>\n",
       "    <tr>\n",
       "      <td>...</td>\n",
       "      <td>...</td>\n",
       "      <td>...</td>\n",
       "      <td>...</td>\n",
       "      <td>...</td>\n",
       "      <td>...</td>\n",
       "      <td>...</td>\n",
       "      <td>...</td>\n",
       "      <td>...</td>\n",
       "      <td>...</td>\n",
       "      <td>...</td>\n",
       "      <td>...</td>\n",
       "      <td>...</td>\n",
       "      <td>...</td>\n",
       "    </tr>\n",
       "    <tr>\n",
       "      <td>112066</td>\n",
       "      <td>4280900819321920929</td>\n",
       "      <td>0.032084</td>\n",
       "      <td>0.097028</td>\n",
       "      <td>0.024081</td>\n",
       "      <td>0.046159</td>\n",
       "      <td>0.085447</td>\n",
       "      <td>0.039708</td>\n",
       "      <td>0.067062</td>\n",
       "      <td>0.112235</td>\n",
       "      <td>0.051735</td>\n",
       "      <td>0.109589</td>\n",
       "      <td>0.088480</td>\n",
       "      <td>0.246392</td>\n",
       "    </tr>\n",
       "    <tr>\n",
       "      <td>112067</td>\n",
       "      <td>818534825520551359</td>\n",
       "      <td>0.066514</td>\n",
       "      <td>0.057441</td>\n",
       "      <td>0.035985</td>\n",
       "      <td>0.069576</td>\n",
       "      <td>0.088986</td>\n",
       "      <td>0.063844</td>\n",
       "      <td>0.099915</td>\n",
       "      <td>0.107768</td>\n",
       "      <td>0.077571</td>\n",
       "      <td>0.096744</td>\n",
       "      <td>0.123366</td>\n",
       "      <td>0.112289</td>\n",
       "    </tr>\n",
       "    <tr>\n",
       "      <td>112068</td>\n",
       "      <td>-8956851351560395765</td>\n",
       "      <td>0.035106</td>\n",
       "      <td>0.036281</td>\n",
       "      <td>0.020812</td>\n",
       "      <td>0.064533</td>\n",
       "      <td>0.017959</td>\n",
       "      <td>0.007202</td>\n",
       "      <td>0.069170</td>\n",
       "      <td>0.297113</td>\n",
       "      <td>0.125359</td>\n",
       "      <td>0.232045</td>\n",
       "      <td>0.051672</td>\n",
       "      <td>0.042747</td>\n",
       "    </tr>\n",
       "    <tr>\n",
       "      <td>112069</td>\n",
       "      <td>6097318236795836256</td>\n",
       "      <td>0.035106</td>\n",
       "      <td>0.036281</td>\n",
       "      <td>0.020812</td>\n",
       "      <td>0.064533</td>\n",
       "      <td>0.017959</td>\n",
       "      <td>0.007202</td>\n",
       "      <td>0.069170</td>\n",
       "      <td>0.297113</td>\n",
       "      <td>0.125359</td>\n",
       "      <td>0.232045</td>\n",
       "      <td>0.051672</td>\n",
       "      <td>0.042747</td>\n",
       "    </tr>\n",
       "    <tr>\n",
       "      <td>112070</td>\n",
       "      <td>622421180514002079</td>\n",
       "      <td>0.062662</td>\n",
       "      <td>0.078889</td>\n",
       "      <td>0.049289</td>\n",
       "      <td>0.069849</td>\n",
       "      <td>0.065375</td>\n",
       "      <td>0.032648</td>\n",
       "      <td>0.149133</td>\n",
       "      <td>0.168341</td>\n",
       "      <td>0.100588</td>\n",
       "      <td>0.072545</td>\n",
       "      <td>0.085263</td>\n",
       "      <td>0.065418</td>\n",
       "    </tr>\n",
       "  </tbody>\n",
       "</table>\n",
       "<p>112071 rows × 13 columns</p>\n",
       "</div>"
      ],
      "text/plain": [
       "                  device_id      F23-    F24-26    F27-28    F29-32    F33-42  \\\n",
       "0       1002079943728939269  0.000572  0.000507  0.001270  0.002703  0.013747   \n",
       "1      -1547860181818787117  0.001123  0.005265  0.004131  0.014236  0.030367   \n",
       "2       7374582448058474277  0.004467  0.018456  0.035311  0.134761  0.124947   \n",
       "3      -6220210354783429585  0.002962  0.007695  0.002018  0.005748  0.032360   \n",
       "4      -5893464122623104785  0.027091  0.070482  0.026176  0.076757  0.028917   \n",
       "...                     ...       ...       ...       ...       ...       ...   \n",
       "112066  4280900819321920929  0.032084  0.097028  0.024081  0.046159  0.085447   \n",
       "112067   818534825520551359  0.066514  0.057441  0.035985  0.069576  0.088986   \n",
       "112068 -8956851351560395765  0.035106  0.036281  0.020812  0.064533  0.017959   \n",
       "112069  6097318236795836256  0.035106  0.036281  0.020812  0.064533  0.017959   \n",
       "112070   622421180514002079  0.062662  0.078889  0.049289  0.069849  0.065375   \n",
       "\n",
       "            F43+      M22-    M23-26    M27-28    M29-31    M32-38      M39+  \n",
       "0       0.009861  0.000594  0.006339  0.013291  0.099033  0.140666  0.711418  \n",
       "1       0.026144  0.001583  0.035844  0.079710  0.266303  0.410740  0.124554  \n",
       "2       0.070306  0.014288  0.027305  0.041761  0.178684  0.251354  0.098361  \n",
       "3       0.054211  0.014240  0.223050  0.143202  0.167419  0.167737  0.179358  \n",
       "4       0.027073  0.064716  0.214713  0.130337  0.104152  0.126223  0.103363  \n",
       "...          ...       ...       ...       ...       ...       ...       ...  \n",
       "112066  0.039708  0.067062  0.112235  0.051735  0.109589  0.088480  0.246392  \n",
       "112067  0.063844  0.099915  0.107768  0.077571  0.096744  0.123366  0.112289  \n",
       "112068  0.007202  0.069170  0.297113  0.125359  0.232045  0.051672  0.042747  \n",
       "112069  0.007202  0.069170  0.297113  0.125359  0.232045  0.051672  0.042747  \n",
       "112070  0.032648  0.149133  0.168341  0.100588  0.072545  0.085263  0.065418  \n",
       "\n",
       "[112071 rows x 13 columns]"
      ]
     },
     "execution_count": 141,
     "metadata": {},
     "output_type": "execute_result"
    }
   ],
   "source": [
    "gatest"
   ]
  },
  {
   "cell_type": "code",
   "execution_count": null,
   "metadata": {},
   "outputs": [],
   "source": [
    "log_loss(pred_t)"
   ]
  }
 ],
 "metadata": {
  "kernelspec": {
   "display_name": "Python 3",
   "language": "python",
   "name": "python3"
  },
  "language_info": {
   "codemirror_mode": {
    "name": "ipython",
    "version": 3
   },
   "file_extension": ".py",
   "mimetype": "text/x-python",
   "name": "python",
   "nbconvert_exporter": "python",
   "pygments_lexer": "ipython3",
   "version": "3.6.7"
  }
 },
 "nbformat": 4,
 "nbformat_minor": 4
}
